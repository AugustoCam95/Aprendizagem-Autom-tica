{
 "cells": [
  {
   "cell_type": "code",
   "execution_count": 8,
   "metadata": {},
   "outputs": [],
   "source": [
    "import numpy as np\n",
    "import matplotlib.pyplot as plt\n",
    "%matplotlib inline "
   ]
  },
  {
   "cell_type": "code",
   "execution_count": 9,
   "metadata": {},
   "outputs": [],
   "source": [
    "data = np.loadtxt(\"ex1data1.txt\", dtype = float, delimiter = ',')"
   ]
  },
  {
   "cell_type": "code",
   "execution_count": 10,
   "metadata": {},
   "outputs": [],
   "source": [
    "X = data[:,0]\n",
    "Y = data[:,1]"
   ]
  },
  {
   "cell_type": "code",
   "execution_count": 11,
   "metadata": {},
   "outputs": [],
   "source": [
    "x = np.ones((data.shape[0],2))\n",
    "x[:,1] = X\n",
    "y = Y"
   ]
  },
  {
   "cell_type": "code",
   "execution_count": 12,
   "metadata": {},
   "outputs": [
    {
     "name": "stdout",
     "output_type": "stream",
     "text": [
      "[0.]\n",
      "2\n"
     ]
    }
   ],
   "source": [
    "w = np.zeros((2,1))\n",
    "print(w[0])\n",
    "print(len(w))"
   ]
  },
  {
   "cell_type": "code",
   "execution_count": 13,
   "metadata": {},
   "outputs": [],
   "source": [
    "#Setar o alpha\n",
    "alpha = 0.0005\n",
    "n_epochs = 1000\n",
    "n = data.shape[0]\n",
    "eqm = []"
   ]
  },
  {
   "cell_type": "code",
   "execution_count": 14,
   "metadata": {},
   "outputs": [
    {
     "data": {
      "image/png": "[encoded data removed]",
      "text/plain": [
       "<Figure size 432x288 with 1 Axes>"
      ]
     },
     "metadata": {},
     "output_type": "display_data"
    }
   ],
   "source": [
    "for i in range(n_epochs):\n",
    "    ind = np.random.permutation(n)\n",
    "    x = x[ind,:]\n",
    "    y = y[ind]\n",
    "    erro_total = 0\n",
    "    for j in range(n):\n",
    "        y_barra = np.matmul(x[j,:],w)\n",
    "        erro = y[j] - y_barra[0]\n",
    "        #print(y[j], y_barra[0])\n",
    "        erro_total = erro_total + ((erro*erro))\n",
    "        w[0] = w[0] + (alpha*erro)\n",
    "        w[1] = w[1] + (alpha*erro*x[j,1])\n",
    "    eqm.append(erro_total/float(n))\n",
    "    \n",
    "eixo_x = range(0,n_epochs)\n",
    "\n",
    "plt.plot(eixo_x,eqm)\n",
    "plt.ylabel(\"EQM\")\n",
    "plt.xlim((0,n_epochs))\n",
    "plt.xlabel(\"Epochs\")\n",
    "plt.show()"
   ]
  },
  {
   "cell_type": "code",
   "execution_count": null,
   "metadata": {},
   "outputs": [],
   "source": []
  }
 ],
 "metadata": {
  "kernelspec": {
   "display_name": "Python 3",
   "language": "python",
   "name": "python3"
  },
  "language_info": {
   "codemirror_mode": {
    "name": "ipython",
    "version": 3
   },
   "file_extension": ".py",
   "mimetype": "text/x-python",
   "name": "python",
   "nbconvert_exporter": "python",
   "pygments_lexer": "ipython3",
   "version": "3.6.6"
  }
 },
 "nbformat": 4,
 "nbformat_minor": 2
}
